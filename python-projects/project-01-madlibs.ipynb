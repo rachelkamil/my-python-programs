{
 "cells": [
  {
   "cell_type": "markdown",
   "metadata": {},
   "source": [
    "# Project 1: Madlibs"
   ]
  },
  {
   "cell_type": "code",
   "execution_count": null,
   "metadata": {},
   "outputs": [],
   "source": [
    "adj = input(\"Adjective: \")\n",
    "verb1 = input(\"Verb: \")\n",
    "noun = input(\"Noun: \")\n",
    "verb2 = input(\"Verb: \")\n",
    "\n",
    "madlib = f\"Computer programming is so {adj}! I love it because I can {verb1} on it. I have a pet {noun}, he can run and {verb2}!\"\n",
    "print(madlib)"
   ]
  },
  {
   "cell_type": "markdown",
   "metadata": {},
   "source": [
    "# Santa's Blog"
   ]
  },
  {
   "cell_type": "code",
   "execution_count": null,
   "metadata": {},
   "outputs": [],
   "source": [
    "adj1 = input(\"Adjective: \")\n",
    "adj2 = input(\"Adjective: \")\n",
    "noun1 = input(\"Noun: \")\n",
    "adj3 = input(\"Adjective: \")\n",
    "ap = input(\"A Place: \")\n",
    "noun2 = input(\"Noun: \")\n",
    "pn1 = input(\"Plural Noun: \")\n",
    "pn2 = input(\"Plural Noun: \")\n",
    "adverb = input(\"Adverb: \")\n",
    "noun3 = input(\"Noun: \")\n",
    "adj4 = input(\"Adjective: \")\n",
    "verb1 = input(\"Verb: \")\n",
    "verb2 = input(\"Verb: \")\n",
    "adj5 = input(\"Adjective: \")\n",
    "adj6 = input(\"Adjective: \")\n",
    "pn3 = input(\"Plural Noun: \")\n",
    "noun4 = input(\"Noun: \")\n",
    "\n",
    "madlib = f\"Ho, ho, ho, {adj1} blog fans! Santa here. It's crunch time at my {adj2} workshop, and everyone is as busy as a/an {noun1}. I've received tons of {adj3} letters from girls and boys around (the) {ap}, and elves have been working aruond the {noun2} to make all of their {pn1}. Plus, I've finally finished putting together the list of naughty {pn2}, which I'm {adverb} happy to say is much shorter than last year's! As I look out the {noun3}, I can see the reindeer are groomed and look really {adj4}, and my sleigh is polished and ready to {verb1}. I will be able to {verb2} though the {adj5} night sky as soon as Mrs. Claus finishes letting out my {adj6} red suit. I'm sorry to say, I ate a few to many {pn3} this past year! See you soon! Your {noun4}, Santa\"\n",
    "print(madlib)"
   ]
  }
 ],
 "metadata": {
  "interpreter": {
   "hash": "31f2aee4e71d21fbe5cf8b01ff0e069b9275f58929596ceb00d14d90e3e16cd6"
  },
  "kernelspec": {
   "display_name": "Python 3.6.9 64-bit",
   "language": "python",
   "name": "python3"
  },
  "language_info": {
   "codemirror_mode": {
    "name": "ipython",
    "version": 3
   },
   "file_extension": ".py",
   "mimetype": "text/x-python",
   "name": "python",
   "nbconvert_exporter": "python",
   "pygments_lexer": "ipython3",
   "version": "3.6.9"
  },
  "orig_nbformat": 4
 },
 "nbformat": 4,
 "nbformat_minor": 2
}
