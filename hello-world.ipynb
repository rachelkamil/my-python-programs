{
 "cells": [
  {
   "cell_type": "markdown",
   "metadata": {},
   "source": [
    "Hello World"
   ]
  },
  {
   "cell_type": "code",
   "execution_count": null,
   "metadata": {},
   "outputs": [],
   "source": [
    "msg1 = \"Hello Daddy\"\n",
    "print(msg1)\n",
    "\n",
    "msg2 = \"Hello Rachel\"\n",
    "print(msg2)\n",
    "\n",
    "msg3 = \"Hello World\"\n",
    "print(msg3)\n",
    "\n",
    "print(msg1)\n",
    "\n",
    "print(\"Hello Mommy\")\n",
    "\n",
    "print(msg2)\n",
    "\n",
    "print(msg2)\n",
    "\n",
    "print(msg2)\n",
    "\n",
    "print(msg2)\n",
    "\n",
    "for x in [0, 1, 2, 3, 4]:\n",
    "    print(msg2)\n",
    "\n",
    "snake = \"i is snek\"\n",
    "\n",
    "print(snake)\n",
    "\n"
   ]
  },
  {
   "cell_type": "markdown",
   "metadata": {},
   "source": [
    "Hello 2nd World"
   ]
  },
  {
   "cell_type": "code",
   "execution_count": 22,
   "metadata": {},
   "outputs": [
    {
     "name": "stdout",
     "output_type": "stream",
     "text": [
      "i is snek\n",
      "i is snek\n",
      "i is snek\n",
      "i is snek\n",
      "i is snek\n",
      "oink\n"
     ]
    }
   ],
   "source": [
    "for x in range(5):\n",
    "    print(snake)\n",
    "\n",
    "pig = \"oink\"\n",
    "\n",
    "print (pig)\n",
    "\n",
    "\n",
    "\n"
   ]
  }
 ],
 "metadata": {
  "interpreter": {
   "hash": "31f2aee4e71d21fbe5cf8b01ff0e069b9275f58929596ceb00d14d90e3e16cd6"
  },
  "kernelspec": {
   "display_name": "Python 3.6.9 64-bit",
   "language": "python",
   "name": "python3"
  },
  "language_info": {
   "codemirror_mode": {
    "name": "ipython",
    "version": 3
   },
   "file_extension": ".py",
   "mimetype": "text/x-python",
   "name": "python",
   "nbconvert_exporter": "python",
   "pygments_lexer": "ipython3",
   "version": "3.6.9"
  },
  "orig_nbformat": 4
 },
 "nbformat": 4,
 "nbformat_minor": 2
}
